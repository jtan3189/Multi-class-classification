{
  "nbformat": 4,
  "nbformat_minor": 0,
  "metadata": {
    "colab": {
      "name": "MSIS549_HW1_newswires.ipynb",
      "provenance": [],
      "collapsed_sections": []
    },
    "language_info": {
      "codemirror_mode": {
        "name": "ipython",
        "version": 3
      },
      "file_extension": ".py",
      "mimetype": "text/x-python",
      "name": "python",
      "nbconvert_exporter": "python",
      "pygments_lexer": "ipython3",
      "version": "3.5.2"
    },
    "kernelspec": {
      "display_name": "Python 3",
      "language": "python",
      "name": "python3"
    }
  },
  "cells": [
    {
      "cell_type": "code",
      "metadata": {
        "id": "_0lDkFZq3ohI",
        "colab": {
          "base_uri": "https://localhost:8080/"
        },
        "outputId": "f7fe1662-49d4-47c0-9fe5-10c9c4e65dfd"
      },
      "source": [
        "%tensorflow_version 2.8.0\n",
        "%matplotlib inline\n",
        "import warnings\n",
        "warnings.filterwarnings('ignore')\n",
        "\n",
        "import tensorflow as tf\n",
        "tf.autograph.set_verbosity(0)\n",
        "\n",
        "import keras\n",
        "keras.__version__\n",
        "\n",
        "import numpy as np"
      ],
      "execution_count": null,
      "outputs": [
        {
          "output_type": "stream",
          "name": "stdout",
          "text": [
            "`%tensorflow_version` only switches the major version: 1.x or 2.x.\n",
            "You set: `2.8.0`. This will be interpreted as: `2.x`.\n",
            "\n",
            "\n",
            "TensorFlow 2.x selected.\n"
          ]
        }
      ]
    },
    {
      "cell_type": "markdown",
      "metadata": {
        "id": "bu5jf9gW3ohR"
      },
      "source": [
        "# Classifying newswires: a multi-class classification example\n",
        "\n",
        "In this homework, we will build a network to classify Reuters newswires into 46 different mutually-exclusive topics. Since we have many \n",
        "classes, this problem is an instance of \"multi-class classification\", and since each data point should be classified into only one \n",
        "category, the problem is more specifically an instance of \"single-label, multi-class classification\"."
      ]
    },
    {
      "cell_type": "markdown",
      "metadata": {
        "id": "_-s49gXW3ohT"
      },
      "source": [
        "## The Reuters dataset\n",
        "\n",
        "\n",
        "We will be working with the _Reuters dataset_, a set of short newswires and their topics, published by Reuters in 1986. It's a very simple, \n",
        "widely used toy dataset for text classification. There are 46 different topics; some topics are more represented than others, but each \n",
        "topic has at least 10 examples in the training set.\n",
        "\n",
        "Like IMDB and MNIST, the Reuters dataset comes packaged as part of Keras. Let's take a look right away:"
      ]
    },
    {
      "cell_type": "code",
      "metadata": {
        "id": "yjSiBNZS3ohU"
      },
      "source": [
        "from keras.datasets import reuters\n",
        "\n",
        "(train_data, train_labels), (test_data, test_labels) = reuters.load_data(num_words=10000)"
      ],
      "execution_count": null,
      "outputs": []
    },
    {
      "cell_type": "markdown",
      "metadata": {
        "id": "-VRrIjNI3ohX"
      },
      "source": [
        "\n",
        "Like with the IMDB dataset, the argument `num_words=10000` restricts the data to the 10,000 most frequently occurring words found in the \n",
        "data.\n",
        "\n",
        "We have 8,982 training examples and 2,246 test examples:"
      ]
    },
    {
      "cell_type": "markdown",
      "metadata": {
        "id": "FMdiLzvF3ohf"
      },
      "source": [
        "As with the IMDB reviews, each example is a list of integers (word indices):"
      ]
    },
    {
      "cell_type": "code",
      "metadata": {
        "id": "QriVgMSe3ohg",
        "colab": {
          "base_uri": "https://localhost:8080/"
        },
        "outputId": "7b510fb0-7563-474e-bcd2-49bf6789f0d9"
      },
      "source": [
        "train_data[:1]"
      ],
      "execution_count": null,
      "outputs": [
        {
          "output_type": "execute_result",
          "data": {
            "text/plain": [
              "array([list([1, 2, 2, 8, 43, 10, 447, 5, 25, 207, 270, 5, 3095, 111, 16, 369, 186, 90, 67, 7, 89, 5, 19, 102, 6, 19, 124, 15, 90, 67, 84, 22, 482, 26, 7, 48, 4, 49, 8, 864, 39, 209, 154, 6, 151, 6, 83, 11, 15, 22, 155, 11, 15, 7, 48, 9, 4579, 1005, 504, 6, 258, 6, 272, 11, 15, 22, 134, 44, 11, 15, 16, 8, 197, 1245, 90, 67, 52, 29, 209, 30, 32, 132, 6, 109, 15, 17, 12])],\n",
              "      dtype=object)"
            ]
          },
          "metadata": {},
          "execution_count": 4
        }
      ]
    },
    {
      "cell_type": "markdown",
      "metadata": {
        "id": "kIvaOPin3ohj"
      },
      "source": [
        "Here's how you can decode it back to words, in case you are curious:"
      ]
    },
    {
      "cell_type": "code",
      "metadata": {
        "id": "EZg6ME3Y3ohk",
        "colab": {
          "base_uri": "https://localhost:8080/"
        },
        "outputId": "a81ebe60-d7a7-4257-bc29-5356ebd52eb0"
      },
      "source": [
        "word_index = reuters.get_word_index()\n",
        "inverted_word_index = dict((i, word) for (word, i) in word_index.items())\n",
        "# Note that our indices were offset by 3\n",
        "# because 0, 1 and 2 are reserved indices for \"padding\", \"start of sequence\", and \"unknown\".\n",
        "decoded_newswire = ' '.join([inverted_word_index.get(i - 3, '?') for i in train_data[0]])\n",
        "\n",
        "print(\"The decoded text:\" + decoded_newswire)"
      ],
      "execution_count": null,
      "outputs": [
        {
          "output_type": "stream",
          "name": "stdout",
          "text": [
            "The decoded text:? ? ? said as a result of its december acquisition of space co it expects earnings per share in 1987 of 1 15 to 1 30 dlrs per share up from 70 cts in 1986 the company said pretax net should rise to nine to 10 mln dlrs from six mln dlrs in 1986 and rental operation revenues to 19 to 22 mln dlrs from 12 5 mln dlrs it said cash flow per share this year should be 2 50 to three dlrs reuter 3\n"
          ]
        }
      ]
    },
    {
      "cell_type": "markdown",
      "metadata": {
        "id": "yntI1JS33oho"
      },
      "source": [
        "The label associated with an example is an integer between 0 and 45: a topic index."
      ]
    },
    {
      "cell_type": "code",
      "metadata": {
        "id": "swMqUzqz3ohq",
        "colab": {
          "base_uri": "https://localhost:8080/"
        },
        "outputId": "82853305-0c07-4b2a-9870-3959c0d0297b"
      },
      "source": [
        "train_labels[:10]"
      ],
      "execution_count": null,
      "outputs": [
        {
          "output_type": "execute_result",
          "data": {
            "text/plain": [
              "array([ 3,  4,  3,  4,  4,  4,  4,  3,  3, 16])"
            ]
          },
          "metadata": {},
          "execution_count": 6
        }
      ]
    },
    {
      "cell_type": "markdown",
      "metadata": {
        "id": "fsLn40NK3oht"
      },
      "source": [
        "## Preparing the data\n",
        "\n",
        "We can vectorize the data with the exact same code as in our previous example:"
      ]
    },
    {
      "cell_type": "code",
      "metadata": {
        "id": "NDol7z_43ohu"
      },
      "source": [
        "import numpy as np\n",
        "\n",
        "def vectorize_sequences(sequences, dimension=10000):\n",
        "    results = np.zeros((len(sequences), dimension))\n",
        "    for i, sequence in enumerate(sequences):\n",
        "        results[i, sequence] = 1.\n",
        "    return results\n",
        "\n",
        "# Our vectorized training data\n",
        "x_train = vectorize_sequences(train_data)\n",
        "# Our vectorized test data\n",
        "x_test = vectorize_sequences(test_data)"
      ],
      "execution_count": null,
      "outputs": []
    },
    {
      "cell_type": "markdown",
      "metadata": {
        "id": "9pte7Qr63ohv"
      },
      "source": [
        "\n",
        "Use \"one-hot\" encoding to vectorize the labels. One-hot encoding is a widely used format for categorical data, also called \"categorical encoding\". In our case, one-hot encoding of our labels consists in embedding each label as an all-zero vector with a 1 in the place of the label index. Note that there is a built-in way to do this in Keras."
      ]
    },
    {
      "cell_type": "code",
      "metadata": {
        "id": "XO_SmjOD3ohy"
      },
      "source": [
        "from keras.utils.np_utils import to_categorical\n",
        "\n",
        "one_hot_train_labels = to_categorical(train_labels)\n",
        "one_hot_test_labels = to_categorical(test_labels)"
      ],
      "execution_count": null,
      "outputs": []
    },
    {
      "cell_type": "markdown",
      "metadata": {
        "id": "rMvTFcc03ohz"
      },
      "source": [
        "## Building our network\n",
        "\n",
        "\n",
        "This topic classification problem looks very similar to our previous movie review classification problem: in both cases, we are trying to \n",
        "classify short snippets of text. There is however a new constraint here: the number of output classes has gone from 2 to 46, i.e. the \n",
        "dimensionality of the output space is much larger. \n",
        "\n",
        "In a stack of `Dense` layers like what we were using, each layer can only access information present in the output of the previous layer. \n",
        "If one layer drops some information relevant to the classification problem, this information can never be recovered by later layers: each \n",
        "layer can potentially become an \"information bottleneck\". In our previous example, we were using 16-dimensional intermediate layers, but a \n",
        "16-dimensional space may be too limited to learn to separate 46 different classes: such small layers may act as information bottlenecks, \n",
        "permanently dropping relevant information.\n",
        "\n",
        "For this reason we will use larger layers. Let's go with 64 units:"
      ]
    },
    {
      "cell_type": "code",
      "source": [
        "x_train.shape"
      ],
      "metadata": {
        "colab": {
          "base_uri": "https://localhost:8080/"
        },
        "id": "7sXrsU_9epzg",
        "outputId": "86f9b0c0-6af2-4d40-94d5-23923d535f2d"
      },
      "execution_count": null,
      "outputs": [
        {
          "output_type": "execute_result",
          "data": {
            "text/plain": [
              "(8982, 10000)"
            ]
          },
          "metadata": {},
          "execution_count": 9
        }
      ]
    },
    {
      "cell_type": "code",
      "metadata": {
        "id": "HdhwRTjx3ohz"
      },
      "source": [
        "from keras import models\n",
        "from keras import layers\n",
        "\n",
        "# TODO: specify the architecture of the model.\n",
        "model = models.Sequential()\n",
        "model.add(layers.Dense(units=64, activation=\"relu\", input_shape=(10000,)))\n",
        "model.add(layers.Dense(units=64, activation=\"relu\"))\n",
        "model.add(layers.Dense(units=46, activation=\"softmax\"))"
      ],
      "execution_count": null,
      "outputs": []
    },
    {
      "cell_type": "markdown",
      "metadata": {
        "id": "V-Aj666N3oh1"
      },
      "source": [
        "\n",
        "There are two other things you should note about this architecture:\n",
        "\n",
        "* We are ending the network with a `Dense` layer of size 46. This means that for each input sample, our network will output a \n",
        "46-dimensional vector. Each entry in this vector (each dimension) will encode a different output class.\n",
        "* The last layer uses a `softmax` activation. You have already seen this pattern in the MNIST example. It means that the network will \n",
        "output a _probability distribution_ over the 46 different output classes, i.e. for every input sample, the network will produce a \n",
        "46-dimensional output vector where `output[i]` is the probability that the sample belongs to class `i`. The 46 scores will sum to 1.\n",
        "\n",
        "The best loss function to use in this case is `categorical_crossentropy`. It measures the distance between two probability distributions: \n",
        "in our case, between the probability distribution output by our network, and the true distribution of the labels. By minimizing the \n",
        "distance between these two distributions, we train our network to output something as close as possible to the true labels."
      ]
    },
    {
      "cell_type": "code",
      "metadata": {
        "id": "AhmA6zNZ3oh1"
      },
      "source": [
        "# TODO: compile the model you just built\n",
        "model.compile(\n",
        "    optimizer='rmsprop',\n",
        "    loss='categorical_crossentropy',\n",
        "    metrics=['accuracy']\n",
        "    )\n"
      ],
      "execution_count": null,
      "outputs": []
    },
    {
      "cell_type": "markdown",
      "metadata": {
        "id": "TGB_cp8B3oh2"
      },
      "source": [
        "## Validating our approach\n",
        "\n",
        "Let's set apart 1,000 samples in our training data to use as a validation set:"
      ]
    },
    {
      "cell_type": "code",
      "metadata": {
        "id": "Y3eyzgOA3oh2"
      },
      "source": [
        "x_val = x_train[:1000]\n",
        "partial_x_train = x_train[1000:]\n",
        "\n",
        "y_val = one_hot_train_labels[:1000]\n",
        "partial_y_train = one_hot_train_labels[1000:]"
      ],
      "execution_count": null,
      "outputs": []
    },
    {
      "cell_type": "markdown",
      "metadata": {
        "id": "vIFUZkt43oh3"
      },
      "source": [
        "Now let's train our network for 20 epochs:"
      ]
    },
    {
      "cell_type": "code",
      "metadata": {
        "id": "MM57jbod3oh3",
        "colab": {
          "base_uri": "https://localhost:8080/"
        },
        "outputId": "62ffeecd-9e62-4160-b7ee-707ada45a2b1"
      },
      "source": [
        "# TODO: fit the model with the training dataset and provide validation data \n",
        "# to help check overfitting\n",
        "history = model.fit(\n",
        "    partial_x_train,\n",
        "    partial_y_train,\n",
        "    epochs=20,\n",
        "    validation_data=(x_val, y_val)\n",
        ")\n",
        "#    batch_size=512"
      ],
      "execution_count": null,
      "outputs": [
        {
          "output_type": "stream",
          "name": "stdout",
          "text": [
            "Epoch 1/20\n",
            "250/250 [==============================] - 3s 10ms/step - loss: 1.4510 - accuracy: 0.6874 - val_loss: 1.0331 - val_accuracy: 0.7740\n",
            "Epoch 2/20\n",
            "250/250 [==============================] - 2s 9ms/step - loss: 0.7602 - accuracy: 0.8326 - val_loss: 0.8578 - val_accuracy: 0.8170\n",
            "Epoch 3/20\n",
            "250/250 [==============================] - 2s 9ms/step - loss: 0.4787 - accuracy: 0.8960 - val_loss: 0.8324 - val_accuracy: 0.8200\n",
            "Epoch 4/20\n",
            "250/250 [==============================] - 2s 9ms/step - loss: 0.3289 - accuracy: 0.9253 - val_loss: 0.9228 - val_accuracy: 0.8060\n",
            "Epoch 5/20\n",
            "250/250 [==============================] - 2s 9ms/step - loss: 0.2580 - accuracy: 0.9426 - val_loss: 0.9251 - val_accuracy: 0.8150\n",
            "Epoch 6/20\n",
            "250/250 [==============================] - 2s 9ms/step - loss: 0.2177 - accuracy: 0.9493 - val_loss: 1.0116 - val_accuracy: 0.8160\n",
            "Epoch 7/20\n",
            "250/250 [==============================] - 3s 11ms/step - loss: 0.1894 - accuracy: 0.9535 - val_loss: 1.0797 - val_accuracy: 0.8100\n",
            "Epoch 8/20\n",
            "250/250 [==============================] - 2s 9ms/step - loss: 0.1783 - accuracy: 0.9524 - val_loss: 1.1291 - val_accuracy: 0.8010\n",
            "Epoch 9/20\n",
            "250/250 [==============================] - 2s 9ms/step - loss: 0.1619 - accuracy: 0.9558 - val_loss: 1.2365 - val_accuracy: 0.8040\n",
            "Epoch 10/20\n",
            "250/250 [==============================] - 2s 9ms/step - loss: 0.1532 - accuracy: 0.9563 - val_loss: 1.3377 - val_accuracy: 0.7940\n",
            "Epoch 11/20\n",
            "250/250 [==============================] - 3s 10ms/step - loss: 0.1507 - accuracy: 0.9563 - val_loss: 1.3114 - val_accuracy: 0.7990\n",
            "Epoch 12/20\n",
            "250/250 [==============================] - 2s 9ms/step - loss: 0.1428 - accuracy: 0.9560 - val_loss: 1.4169 - val_accuracy: 0.7950\n",
            "Epoch 13/20\n",
            "250/250 [==============================] - 2s 9ms/step - loss: 0.1365 - accuracy: 0.9559 - val_loss: 1.4679 - val_accuracy: 0.7900\n",
            "Epoch 14/20\n",
            "250/250 [==============================] - 2s 9ms/step - loss: 0.1300 - accuracy: 0.9574 - val_loss: 1.4472 - val_accuracy: 0.7940\n",
            "Epoch 15/20\n",
            "250/250 [==============================] - 2s 9ms/step - loss: 0.1243 - accuracy: 0.9588 - val_loss: 1.5674 - val_accuracy: 0.7930\n",
            "Epoch 16/20\n",
            "250/250 [==============================] - 2s 10ms/step - loss: 0.1236 - accuracy: 0.9565 - val_loss: 1.7314 - val_accuracy: 0.7850\n",
            "Epoch 17/20\n",
            "250/250 [==============================] - 2s 9ms/step - loss: 0.1201 - accuracy: 0.9558 - val_loss: 1.8370 - val_accuracy: 0.7860\n",
            "Epoch 18/20\n",
            "250/250 [==============================] - 2s 9ms/step - loss: 0.1131 - accuracy: 0.9597 - val_loss: 1.9078 - val_accuracy: 0.7770\n",
            "Epoch 19/20\n",
            "250/250 [==============================] - 2s 9ms/step - loss: 0.1103 - accuracy: 0.9587 - val_loss: 1.8582 - val_accuracy: 0.7810\n",
            "Epoch 20/20\n",
            "250/250 [==============================] - 2s 9ms/step - loss: 0.1093 - accuracy: 0.9584 - val_loss: 2.1150 - val_accuracy: 0.7740\n"
          ]
        }
      ]
    },
    {
      "cell_type": "markdown",
      "metadata": {
        "id": "Rq5P0gWQ3oh5"
      },
      "source": [
        "Let's display its loss and accuracy curves to help identify when it starts to overfit."
      ]
    },
    {
      "cell_type": "code",
      "metadata": {
        "id": "EIRFHE0U3oh5",
        "colab": {
          "base_uri": "https://localhost:8080/",
          "height": 295
        },
        "outputId": "b2f4d257-fe88-460c-dd5b-64e03e93dda0"
      },
      "source": [
        "import matplotlib.pyplot as plt\n",
        "\n",
        "# TODO: plot the model loss on both training and validation data. \n",
        "\n",
        "loss = history.history['loss']\n",
        "val_loss = history.history['val_loss']\n",
        "acc = history.history['accuracy']\n",
        "val_acc = history.history['val_accuracy']\n",
        "\n",
        "epochs = range(1, len(acc) + 1)\n",
        "\n",
        "# \"bo\" is for \"blue dot\"\n",
        "plt.plot(epochs, loss, 'bo', label='Training loss')\n",
        "# b is for \"solid blue line\"\n",
        "plt.plot(epochs, val_loss, 'b', label='Validation loss')\n",
        "plt.title('Training and validation loss')\n",
        "plt.xlabel('Epochs')\n",
        "plt.ylabel('Loss')\n",
        "plt.legend()\n",
        "\n",
        "plt.show()\n",
        "#overfitting the training data"
      ],
      "execution_count": null,
      "outputs": [
        {
          "output_type": "display_data",
          "data": {
            "text/plain": [
              "<Figure size 432x288 with 1 Axes>"
            ],
            "image/png": "[encoded data removed]"
          },
          "metadata": {
            "needs_background": "light"
          }
        }
      ]
    },
    {
      "cell_type": "code",
      "metadata": {
        "id": "M69rtt143oh6",
        "colab": {
          "base_uri": "https://localhost:8080/",
          "height": 295
        },
        "outputId": "5179f721-078a-4055-dd28-e52486157929"
      },
      "source": [
        "# TODO: plot prediction accuracy on both training and validation data. \n",
        "plt.clf()   # clear figure\n",
        "acc = history.history['accuracy']\n",
        "val_acc = history.history['val_accuracy']\n",
        "\n",
        "plt.plot(epochs, acc, 'bo', label='Training acc')\n",
        "plt.plot(epochs, val_acc, 'b', label='Validation acc')\n",
        "plt.title('Training and validation accuracy')\n",
        "plt.xlabel('Epochs')\n",
        "plt.ylabel('Accuracy')\n",
        "plt.legend()\n",
        "\n",
        "plt.show()"
      ],
      "execution_count": null,
      "outputs": [
        {
          "output_type": "display_data",
          "data": {
            "text/plain": [
              "<Figure size 432x288 with 1 Axes>"
            ],
            "image/png": "[encoded data removed]"
          },
          "metadata": {
            "needs_background": "light"
          }
        }
      ]
    },
    {
      "cell_type": "markdown",
      "metadata": {
        "id": "LUarkgZd3oh7"
      },
      "source": [
        "It seems that the network starts overfitting after certain epochs. Let's train a new network from scratch for fewer epochs before it starts overfitting, then let's evaluate it on the test set:"
      ]
    },
    {
      "cell_type": "code",
      "metadata": {
        "id": "IciZ2dMP3oh8",
        "colab": {
          "base_uri": "https://localhost:8080/"
        },
        "outputId": "4b0d3a74-73ce-46ee-c0e2-0557f0713df5"
      },
      "source": [
        "# TODO: retrain the model with the fewer epoches to avoid overfitting\n",
        "model = models.Sequential()\n",
        "model.add(layers.Dense(units=64, activation=\"relu\", input_shape=(10000,)))\n",
        "model.add(layers.Dense(units=64, activation=\"relu\"))\n",
        "model.add(layers.Dense(units=46, activation=\"softmax\"))\n",
        "\n",
        "model.compile(\n",
        "    optimizer='rmsprop',\n",
        "    loss='categorical_crossentropy',\n",
        "    metrics=['accuracy']\n",
        "    )\n",
        "\n",
        "history = model.fit(\n",
        "    partial_x_train,\n",
        "    partial_y_train,\n",
        "    epochs=5,\n",
        "    validation_data=(x_val, y_val)\n",
        ")"
      ],
      "execution_count": null,
      "outputs": [
        {
          "output_type": "stream",
          "name": "stdout",
          "text": [
            "Epoch 1/5\n",
            "250/250 [==============================] - 3s 10ms/step - loss: 1.4700 - accuracy: 0.6867 - val_loss: 1.0287 - val_accuracy: 0.7830\n",
            "Epoch 2/5\n",
            "250/250 [==============================] - 2s 9ms/step - loss: 0.7406 - accuracy: 0.8389 - val_loss: 0.9069 - val_accuracy: 0.8230\n",
            "Epoch 3/5\n",
            "250/250 [==============================] - 2s 9ms/step - loss: 0.4667 - accuracy: 0.8973 - val_loss: 0.8958 - val_accuracy: 0.8220\n",
            "Epoch 4/5\n",
            "250/250 [==============================] - 2s 9ms/step - loss: 0.3281 - accuracy: 0.9296 - val_loss: 0.9357 - val_accuracy: 0.8170\n",
            "Epoch 5/5\n",
            "250/250 [==============================] - 2s 9ms/step - loss: 0.2556 - accuracy: 0.9420 - val_loss: 1.0504 - val_accuracy: 0.8050\n"
          ]
        }
      ]
    },
    {
      "cell_type": "code",
      "source": [
        "import matplotlib.pyplot as plt\n",
        "\n",
        "# TODO: plot the model loss on both training and validation data. \n",
        "\n",
        "loss = history.history['loss']\n",
        "val_loss = history.history['val_loss']\n",
        "acc = history.history['accuracy']\n",
        "val_acc = history.history['val_accuracy']\n",
        "\n",
        "epochs = range(1, len(acc) + 1)\n",
        "\n",
        "# \"bo\" is for \"blue dot\"\n",
        "plt.plot(epochs, loss, 'bo', label='Training loss')\n",
        "# b is for \"solid blue line\"\n",
        "plt.plot(epochs, val_loss, 'b', label='Validation loss')\n",
        "plt.title('Training and validation loss')\n",
        "plt.xlabel('Epochs')\n",
        "plt.ylabel('Loss')\n",
        "plt.legend()\n",
        "\n",
        "plt.show()\n",
        "#overfitting the training data\n",
        "\n",
        "\n",
        "# TODO: plot prediction accuracy on both training and validation data. \n",
        "plt.clf()   # clear figure\n",
        "acc = history.history['accuracy']\n",
        "val_acc = history.history['val_accuracy']\n",
        "\n",
        "plt.plot(epochs, acc, 'bo', label='Training acc')\n",
        "plt.plot(epochs, val_acc, 'b', label='Validation acc')\n",
        "plt.title('Training and validation accuracy')\n",
        "plt.xlabel('Epochs')\n",
        "plt.ylabel('Accuracy')\n",
        "plt.legend()\n",
        "\n",
        "plt.show()\n",
        "\n"
      ],
      "metadata": {
        "colab": {
          "base_uri": "https://localhost:8080/",
          "height": 573
        },
        "id": "eAD38p4Vg5Bx",
        "outputId": "d8050947-fe9a-41eb-c4ca-181480a7e68a"
      },
      "execution_count": null,
      "outputs": [
        {
          "output_type": "display_data",
          "data": {
            "text/plain": [
              "<Figure size 432x288 with 1 Axes>"
            ],
            "image/png": "[encoded data removed]"
          },
          "metadata": {
            "needs_background": "light"
          }
        },
        {
          "output_type": "display_data",
          "data": {
            "text/plain": [
              "<Figure size 432x288 with 1 Axes>"
            ],
            "image/png": "[encoded data removed]"
          },
          "metadata": {
            "needs_background": "light"
          }
        }
      ]
    },
    {
      "cell_type": "markdown",
      "metadata": {
        "id": "XQ3VcXyx3oh_"
      },
      "source": [
        "\n",
        "Your model should reach an accuracy of ~78%. With a balanced binary classification problem, the accuracy reached by a purely random classifier \n",
        "would be 50%, but in our case it is closer to 19%, so our results seem pretty good, at least when compared to a random baseline."
      ]
    },
    {
      "cell_type": "markdown",
      "metadata": {
        "id": "FEzjb1m33oiA"
      },
      "source": [
        "## Generating predictions on new data\n",
        "\n",
        "We can verify that the `predict` method of our model instance returns a probability distribution over all 46 topics. Let's generate topic \n",
        "predictions for all of the test data:"
      ]
    },
    {
      "cell_type": "code",
      "metadata": {
        "id": "lIuTWvUq3oiB",
        "colab": {
          "base_uri": "https://localhost:8080/"
        },
        "outputId": "cfe6a61c-fc41-4ae8-cf0f-415e91a256d8"
      },
      "source": [
        "# TODO: use the learnt neural network to make a prediction on \n",
        "# the test data \n",
        "predictions = model.predict(x_test)\n",
        "\n",
        "model.predict(x_test).shape\n",
        "predictions"
      ],
      "execution_count": null,
      "outputs": [
        {
          "output_type": "execute_result",
          "data": {
            "text/plain": [
              "array([[2.13601652e-06, 2.65162642e-04, 7.92338817e-09, ...,\n",
              "        1.14064896e-10, 1.95416465e-08, 1.59162339e-09],\n",
              "       [1.04080518e-05, 2.26655304e-02, 6.70330138e-08, ...,\n",
              "        1.68595291e-10, 9.98392764e-08, 4.94715437e-07],\n",
              "       [6.17495025e-05, 9.91841555e-01, 2.54131123e-06, ...,\n",
              "        5.94339120e-08, 1.35740186e-06, 6.56710313e-07],\n",
              "       ...,\n",
              "       [1.12607790e-06, 2.51756690e-04, 1.12468215e-05, ...,\n",
              "        8.32453750e-09, 8.47365200e-08, 8.68792416e-09],\n",
              "       [1.38998716e-04, 3.59092653e-02, 4.69354971e-04, ...,\n",
              "        3.14263843e-06, 4.74780882e-06, 6.74667126e-06],\n",
              "       [3.58081684e-06, 5.64319491e-01, 3.83927557e-03, ...,\n",
              "        2.18932701e-06, 2.24480374e-07, 1.16770343e-06]], dtype=float32)"
            ]
          },
          "metadata": {},
          "execution_count": 20
        }
      ]
    },
    {
      "cell_type": "markdown",
      "metadata": {
        "id": "O1LzmGXx3oiB"
      },
      "source": [
        "Each entry in `predictions` is a vector of length 46. **The** largest entry is the predicted class, i.e. the class with the highest probability:"
      ]
    },
    {
      "cell_type": "code",
      "metadata": {
        "id": "L3RyKAsw3oiB",
        "colab": {
          "base_uri": "https://localhost:8080/"
        },
        "outputId": "81c9ed69-f79b-4cda-be3f-9dd835a2efa2"
      },
      "source": [
        "# TODO: evaluate model performan in terms of accuracy on prediction against the ground truth.\n",
        "results = model.evaluate(x_test, predictions)\n",
        "print(results)"
      ],
      "execution_count": null,
      "outputs": [
        {
          "output_type": "stream",
          "name": "stdout",
          "text": [
            "71/71 [==============================] - 0s 2ms/step - loss: 0.4688 - accuracy: 1.0000\n",
            "[0.46880799531936646, 1.0]\n"
          ]
        }
      ]
    },
    {
      "cell_type": "markdown",
      "metadata": {
        "id": "Pw3GlSYG3oiH"
      },
      "source": [
        "## On the importance of having sufficiently large intermediate layers\n",
        "\n",
        "\n",
        "We mentioned earlier that since our final outputs were 46-dimensional, we should avoid intermediate layers with much less than 46 hidden \n",
        "units. Now let's try to see what happens when we introduce an information bottleneck by having intermediate layers significantly less than \n",
        "46-dimensional, e.g. 4-dimensional."
      ]
    },
    {
      "cell_type": "code",
      "metadata": {
        "id": "emfKokRe3oiH",
        "colab": {
          "base_uri": "https://localhost:8080/"
        },
        "outputId": "8c8a63e9-a4d4-4c3f-aeb0-69d2d99aa416"
      },
      "source": [
        "# TODO: build a neural network with 4 neuron units in the hidden layer with the validation data \n",
        "# and evaluate its performance on the test data.\n",
        "\n",
        "model = models.Sequential()\n",
        "model.add(layers.Dense(units=64, activation=\"relu\", input_shape=(10000,)))\n",
        "model.add(layers.Dense(units=4, activation=\"relu\"))\n",
        "model.add(layers.Dense(units=46, activation=\"softmax\"))\n",
        "\n",
        "model.compile(\n",
        "    optimizer='rmsprop',\n",
        "    loss='categorical_crossentropy',\n",
        "    metrics=['accuracy']\n",
        "    )\n",
        "\n",
        "history = model.fit(\n",
        "    partial_x_train,\n",
        "    partial_y_train,\n",
        "    epochs=20,\n",
        "    validation_data=(x_val, y_val)\n",
        ")\n"
      ],
      "execution_count": null,
      "outputs": [
        {
          "output_type": "stream",
          "name": "stdout",
          "text": [
            "Epoch 1/20\n",
            "250/250 [==============================] - 3s 10ms/step - loss: 2.0621 - accuracy: 0.4738 - val_loss: 1.5166 - val_accuracy: 0.6010\n",
            "Epoch 2/20\n",
            "250/250 [==============================] - 2s 9ms/step - loss: 1.3859 - accuracy: 0.6297 - val_loss: 1.3814 - val_accuracy: 0.6440\n",
            "Epoch 3/20\n",
            "250/250 [==============================] - 2s 9ms/step - loss: 1.2138 - accuracy: 0.6668 - val_loss: 1.3508 - val_accuracy: 0.6610\n",
            "Epoch 4/20\n",
            "250/250 [==============================] - 2s 9ms/step - loss: 1.0855 - accuracy: 0.7041 - val_loss: 1.3426 - val_accuracy: 0.6940\n",
            "Epoch 5/20\n",
            "250/250 [==============================] - 2s 9ms/step - loss: 0.9421 - accuracy: 0.7593 - val_loss: 1.3170 - val_accuracy: 0.7130\n",
            "Epoch 6/20\n",
            "250/250 [==============================] - 2s 9ms/step - loss: 0.8444 - accuracy: 0.7920 - val_loss: 1.3340 - val_accuracy: 0.7290\n",
            "Epoch 7/20\n",
            "250/250 [==============================] - 2s 9ms/step - loss: 0.7743 - accuracy: 0.8089 - val_loss: 1.4041 - val_accuracy: 0.7190\n",
            "Epoch 8/20\n",
            "250/250 [==============================] - 2s 9ms/step - loss: 0.7177 - accuracy: 0.8221 - val_loss: 1.5232 - val_accuracy: 0.7220\n",
            "Epoch 9/20\n",
            "250/250 [==============================] - 2s 8ms/step - loss: 0.6746 - accuracy: 0.8312 - val_loss: 1.5259 - val_accuracy: 0.7190\n",
            "Epoch 10/20\n",
            "250/250 [==============================] - 2s 9ms/step - loss: 0.6404 - accuracy: 0.8360 - val_loss: 1.6316 - val_accuracy: 0.7150\n",
            "Epoch 11/20\n",
            "250/250 [==============================] - 2s 9ms/step - loss: 0.6096 - accuracy: 0.8418 - val_loss: 1.7007 - val_accuracy: 0.7090\n",
            "Epoch 12/20\n",
            "250/250 [==============================] - 2s 9ms/step - loss: 0.5852 - accuracy: 0.8430 - val_loss: 1.7996 - val_accuracy: 0.7120\n",
            "Epoch 13/20\n",
            "250/250 [==============================] - 2s 9ms/step - loss: 0.5696 - accuracy: 0.8465 - val_loss: 1.8779 - val_accuracy: 0.7020\n",
            "Epoch 14/20\n",
            "250/250 [==============================] - 2s 9ms/step - loss: 0.5503 - accuracy: 0.8487 - val_loss: 2.0185 - val_accuracy: 0.7080\n",
            "Epoch 15/20\n",
            "250/250 [==============================] - 2s 9ms/step - loss: 0.5379 - accuracy: 0.8534 - val_loss: 2.1065 - val_accuracy: 0.7010\n",
            "Epoch 16/20\n",
            "250/250 [==============================] - 2s 9ms/step - loss: 0.5245 - accuracy: 0.8549 - val_loss: 2.1750 - val_accuracy: 0.7070\n",
            "Epoch 17/20\n",
            "250/250 [==============================] - 2s 9ms/step - loss: 0.5139 - accuracy: 0.8583 - val_loss: 2.2552 - val_accuracy: 0.7040\n",
            "Epoch 18/20\n",
            "250/250 [==============================] - 2s 9ms/step - loss: 0.5047 - accuracy: 0.8638 - val_loss: 2.3836 - val_accuracy: 0.6960\n",
            "Epoch 19/20\n",
            "250/250 [==============================] - 2s 8ms/step - loss: 0.4925 - accuracy: 0.8648 - val_loss: 2.5837 - val_accuracy: 0.7090\n",
            "Epoch 20/20\n",
            "250/250 [==============================] - 2s 9ms/step - loss: 0.4835 - accuracy: 0.8688 - val_loss: 2.5085 - val_accuracy: 0.7030\n"
          ]
        }
      ]
    },
    {
      "cell_type": "markdown",
      "metadata": {
        "id": "M6wV_AR23oiI"
      },
      "source": [
        "\n",
        "You should see the model performance drop. This drop is mostly due to the fact that we are now trying to compress a lot of information (enough information to recover the separation hyperplanes of 46 classes) into an intermediate space that is too low-dimensional. The network is able to cram _most_ of the necessary information into these 8-dimensional representations, but not all of it."
      ]
    },
    {
      "cell_type": "markdown",
      "metadata": {
        "id": "8bFLuR8b3oiI"
      },
      "source": [
        "## Try using larger or smaller hidden layers: 32 units, and 128 units, and see if you will be able to improve the model performance on the test data.\n"
      ]
    },
    {
      "cell_type": "code",
      "metadata": {
        "id": "B1v7pFMGrEik",
        "colab": {
          "base_uri": "https://localhost:8080/"
        },
        "outputId": "960a5ced-e07f-41ec-a6ab-592464f05a48"
      },
      "source": [
        "# TODO: Try using larger or smaller hidden layers: 32 units, and 128 units\n",
        "\n",
        "model = models.Sequential()\n",
        "model.add(layers.Dense(units=32, activation=\"relu\", input_shape=(10000,)))\n",
        "model.add(layers.Dense(units=128, activation=\"relu\"))\n",
        "model.add(layers.Dense(units=46, activation=\"softmax\"))\n",
        "\n",
        "model.compile(\n",
        "    optimizer='rmsprop',\n",
        "    loss='categorical_crossentropy',\n",
        "    metrics=['accuracy']\n",
        "    )\n",
        "\n",
        "history = model.fit(\n",
        "    partial_x_train,\n",
        "    partial_y_train,\n",
        "    epochs=20,\n",
        "    validation_data=(x_val, y_val)\n",
        ")\n"
      ],
      "execution_count": null,
      "outputs": [
        {
          "output_type": "stream",
          "name": "stdout",
          "text": [
            "Epoch 1/20\n",
            "250/250 [==============================] - 2s 7ms/step - loss: 1.5478 - accuracy: 0.6645 - val_loss: 1.0996 - val_accuracy: 0.7560\n",
            "Epoch 2/20\n",
            "250/250 [==============================] - 2s 6ms/step - loss: 0.8475 - accuracy: 0.8082 - val_loss: 0.9144 - val_accuracy: 0.8080\n",
            "Epoch 3/20\n",
            "250/250 [==============================] - 2s 7ms/step - loss: 0.5568 - accuracy: 0.8775 - val_loss: 0.9175 - val_accuracy: 0.8170\n",
            "Epoch 4/20\n",
            "250/250 [==============================] - 2s 6ms/step - loss: 0.3902 - accuracy: 0.9147 - val_loss: 0.9442 - val_accuracy: 0.8140\n",
            "Epoch 5/20\n",
            "250/250 [==============================] - 2s 6ms/step - loss: 0.2928 - accuracy: 0.9341 - val_loss: 1.0103 - val_accuracy: 0.8100\n",
            "Epoch 6/20\n",
            "250/250 [==============================] - 2s 6ms/step - loss: 0.2395 - accuracy: 0.9441 - val_loss: 1.0766 - val_accuracy: 0.8100\n",
            "Epoch 7/20\n",
            "250/250 [==============================] - 1s 6ms/step - loss: 0.2022 - accuracy: 0.9498 - val_loss: 1.2555 - val_accuracy: 0.8050\n",
            "Epoch 8/20\n",
            "250/250 [==============================] - 2s 6ms/step - loss: 0.1894 - accuracy: 0.9524 - val_loss: 1.3033 - val_accuracy: 0.8120\n",
            "Epoch 9/20\n",
            "250/250 [==============================] - 2s 6ms/step - loss: 0.1772 - accuracy: 0.9531 - val_loss: 1.3098 - val_accuracy: 0.8020\n",
            "Epoch 10/20\n",
            "250/250 [==============================] - 2s 6ms/step - loss: 0.1584 - accuracy: 0.9550 - val_loss: 1.3461 - val_accuracy: 0.8040\n",
            "Epoch 11/20\n",
            "250/250 [==============================] - 1s 6ms/step - loss: 0.1538 - accuracy: 0.9548 - val_loss: 1.4237 - val_accuracy: 0.7960\n",
            "Epoch 12/20\n",
            "250/250 [==============================] - 1s 6ms/step - loss: 0.1496 - accuracy: 0.9574 - val_loss: 1.5346 - val_accuracy: 0.7960\n",
            "Epoch 13/20\n",
            "250/250 [==============================] - 1s 6ms/step - loss: 0.1432 - accuracy: 0.9569 - val_loss: 1.5856 - val_accuracy: 0.7890\n",
            "Epoch 14/20\n",
            "250/250 [==============================] - 1s 6ms/step - loss: 0.1392 - accuracy: 0.9578 - val_loss: 1.5464 - val_accuracy: 0.7920\n",
            "Epoch 15/20\n",
            "250/250 [==============================] - 1s 6ms/step - loss: 0.1264 - accuracy: 0.9583 - val_loss: 1.7633 - val_accuracy: 0.7950\n",
            "Epoch 16/20\n",
            "250/250 [==============================] - 1s 6ms/step - loss: 0.1251 - accuracy: 0.9582 - val_loss: 1.7532 - val_accuracy: 0.7860\n",
            "Epoch 17/20\n",
            "250/250 [==============================] - 2s 6ms/step - loss: 0.1237 - accuracy: 0.9590 - val_loss: 1.8764 - val_accuracy: 0.7900\n",
            "Epoch 18/20\n",
            "250/250 [==============================] - 2s 6ms/step - loss: 0.1196 - accuracy: 0.9590 - val_loss: 1.9347 - val_accuracy: 0.7870\n",
            "Epoch 19/20\n",
            "250/250 [==============================] - 2s 6ms/step - loss: 0.1162 - accuracy: 0.9574 - val_loss: 2.0523 - val_accuracy: 0.7830\n",
            "Epoch 20/20\n",
            "250/250 [==============================] - 2s 7ms/step - loss: 0.1132 - accuracy: 0.9579 - val_loss: 2.1263 - val_accuracy: 0.7900\n"
          ]
        }
      ]
    },
    {
      "cell_type": "markdown",
      "metadata": {
        "id": "qJ1JPiTErD7X"
      },
      "source": [
        "\n",
        "## We were using two hidden layers. Now try to use a single hidden layer, or three hidden layers, and see if you will be able to improve the model performance on the test data.\n",
        "\n"
      ]
    },
    {
      "cell_type": "code",
      "source": [
        "# TODO: Try to use a single hidden layer, or three hidden layers\n",
        "\n",
        "model = models.Sequential()\n",
        "model.add(layers.Dense(units=8, activation=\"relu\", input_shape=(10000,)))\n",
        "model.add(layers.Dense(units=64, activation=\"relu\"))\n",
        "model.add(layers.Dense(units=128, activation=\"relu\"))\n",
        "model.add(layers.Dense(units=46, activation=\"softmax\"))\n",
        "\n",
        "model.compile(\n",
        "    optimizer='rmsprop',\n",
        "    loss='categorical_crossentropy',\n",
        "    metrics=['accuracy']\n",
        "    )\n",
        "\n",
        "history = model.fit(\n",
        "    partial_x_train,\n",
        "    partial_y_train,\n",
        "    epochs=20,\n",
        "    validation_data=(x_val, y_val)\n",
        ")\n"
      ],
      "metadata": {
        "colab": {
          "base_uri": "https://localhost:8080/"
        },
        "id": "EYuMVZyvik8G",
        "outputId": "94908a71-0e23-4fc1-c0a6-3baaf0c9299f"
      },
      "execution_count": null,
      "outputs": [
        {
          "output_type": "stream",
          "name": "stdout",
          "text": [
            "Epoch 1/20\n",
            "250/250 [==============================] - 2s 5ms/step - loss: 1.7338 - accuracy: 0.6011 - val_loss: 1.2993 - val_accuracy: 0.6890\n",
            "Epoch 2/20\n",
            "250/250 [==============================] - 1s 5ms/step - loss: 1.1272 - accuracy: 0.7289 - val_loss: 1.1133 - val_accuracy: 0.7230\n",
            "Epoch 3/20\n",
            "250/250 [==============================] - 1s 5ms/step - loss: 0.8782 - accuracy: 0.7915 - val_loss: 1.0332 - val_accuracy: 0.7720\n",
            "Epoch 4/20\n",
            "250/250 [==============================] - 1s 5ms/step - loss: 0.6961 - accuracy: 0.8341 - val_loss: 1.1312 - val_accuracy: 0.7630\n",
            "Epoch 5/20\n",
            "250/250 [==============================] - 1s 5ms/step - loss: 0.5671 - accuracy: 0.8629 - val_loss: 1.1918 - val_accuracy: 0.7640\n",
            "Epoch 6/20\n",
            "250/250 [==============================] - 1s 4ms/step - loss: 0.4663 - accuracy: 0.8862 - val_loss: 1.1416 - val_accuracy: 0.7780\n",
            "Epoch 7/20\n",
            "250/250 [==============================] - 1s 5ms/step - loss: 0.3922 - accuracy: 0.9078 - val_loss: 1.2141 - val_accuracy: 0.7660\n",
            "Epoch 8/20\n",
            "250/250 [==============================] - 1s 4ms/step - loss: 0.3359 - accuracy: 0.9265 - val_loss: 1.2672 - val_accuracy: 0.7860\n",
            "Epoch 9/20\n",
            "250/250 [==============================] - 1s 4ms/step - loss: 0.2978 - accuracy: 0.9326 - val_loss: 1.4679 - val_accuracy: 0.7760\n",
            "Epoch 10/20\n",
            "250/250 [==============================] - 1s 4ms/step - loss: 0.2649 - accuracy: 0.9400 - val_loss: 1.5058 - val_accuracy: 0.7630\n",
            "Epoch 11/20\n",
            "250/250 [==============================] - 1s 4ms/step - loss: 0.2459 - accuracy: 0.9445 - val_loss: 1.5121 - val_accuracy: 0.7700\n",
            "Epoch 12/20\n",
            "250/250 [==============================] - 1s 4ms/step - loss: 0.2322 - accuracy: 0.9484 - val_loss: 1.6740 - val_accuracy: 0.7700\n",
            "Epoch 13/20\n",
            "250/250 [==============================] - 1s 5ms/step - loss: 0.2128 - accuracy: 0.9500 - val_loss: 1.7728 - val_accuracy: 0.7590\n",
            "Epoch 14/20\n",
            "250/250 [==============================] - 1s 4ms/step - loss: 0.1995 - accuracy: 0.9514 - val_loss: 1.8429 - val_accuracy: 0.7480\n",
            "Epoch 15/20\n",
            "250/250 [==============================] - 1s 4ms/step - loss: 0.1935 - accuracy: 0.9523 - val_loss: 1.8931 - val_accuracy: 0.7520\n",
            "Epoch 16/20\n",
            "250/250 [==============================] - 1s 5ms/step - loss: 0.1848 - accuracy: 0.9534 - val_loss: 1.9963 - val_accuracy: 0.7650\n",
            "Epoch 17/20\n",
            "250/250 [==============================] - 1s 4ms/step - loss: 0.1839 - accuracy: 0.9559 - val_loss: 1.9669 - val_accuracy: 0.7560\n",
            "Epoch 18/20\n",
            "250/250 [==============================] - 1s 4ms/step - loss: 0.1714 - accuracy: 0.9553 - val_loss: 2.0830 - val_accuracy: 0.7420\n",
            "Epoch 19/20\n",
            "250/250 [==============================] - 1s 4ms/step - loss: 0.1639 - accuracy: 0.9567 - val_loss: 2.1430 - val_accuracy: 0.7520\n",
            "Epoch 20/20\n",
            "250/250 [==============================] - 1s 4ms/step - loss: 0.1666 - accuracy: 0.9554 - val_loss: 2.2075 - val_accuracy: 0.7470\n"
          ]
        }
      ]
    },
    {
      "cell_type": "code",
      "metadata": {
        "id": "6zukIClyrh3k",
        "colab": {
          "base_uri": "https://localhost:8080/"
        },
        "outputId": "3bc7bacc-7898-48a6-921d-51e32cc4d114"
      },
      "source": [
        "# TODO: Try to use a single hidden layer, or three hidden layers\n",
        "\n",
        "\n",
        "model = models.Sequential()\n",
        "model.add(layers.Dense(units=64, activation=\"relu\", input_shape=(10000,)))\n",
        "model.add(layers.Dense(units=46, activation=\"softmax\"))\n",
        "\n",
        "model.compile(\n",
        "    optimizer='rmsprop',\n",
        "    loss='categorical_crossentropy',\n",
        "    metrics=['accuracy']\n",
        "    )\n",
        "\n",
        "history = model.fit(\n",
        "    partial_x_train,\n",
        "    partial_y_train,\n",
        "    epochs=20,\n",
        "    validation_data=(x_val, y_val)\n",
        ")\n"
      ],
      "execution_count": null,
      "outputs": [
        {
          "output_type": "stream",
          "name": "stdout",
          "text": [
            "Epoch 1/20\n",
            "250/250 [==============================] - 3s 10ms/step - loss: 1.4382 - accuracy: 0.6919 - val_loss: 1.0016 - val_accuracy: 0.7920\n",
            "Epoch 2/20\n",
            "250/250 [==============================] - 2s 9ms/step - loss: 0.7142 - accuracy: 0.8493 - val_loss: 0.8516 - val_accuracy: 0.8210\n",
            "Epoch 3/20\n",
            "250/250 [==============================] - 2s 9ms/step - loss: 0.4548 - accuracy: 0.9043 - val_loss: 0.8340 - val_accuracy: 0.8330\n",
            "Epoch 4/20\n",
            "250/250 [==============================] - 2s 9ms/step - loss: 0.3253 - accuracy: 0.9303 - val_loss: 0.8696 - val_accuracy: 0.8310\n",
            "Epoch 5/20\n",
            "250/250 [==============================] - 2s 9ms/step - loss: 0.2563 - accuracy: 0.9411 - val_loss: 0.9174 - val_accuracy: 0.8270\n",
            "Epoch 6/20\n",
            "250/250 [==============================] - 2s 9ms/step - loss: 0.2201 - accuracy: 0.9508 - val_loss: 1.0198 - val_accuracy: 0.8210\n",
            "Epoch 7/20\n",
            "250/250 [==============================] - 2s 9ms/step - loss: 0.1943 - accuracy: 0.9516 - val_loss: 1.0911 - val_accuracy: 0.8100\n",
            "Epoch 8/20\n",
            "250/250 [==============================] - 2s 9ms/step - loss: 0.1788 - accuracy: 0.9528 - val_loss: 1.1917 - val_accuracy: 0.8140\n",
            "Epoch 9/20\n",
            "250/250 [==============================] - 2s 9ms/step - loss: 0.1682 - accuracy: 0.9540 - val_loss: 1.3080 - val_accuracy: 0.8110\n",
            "Epoch 10/20\n",
            "250/250 [==============================] - 2s 9ms/step - loss: 0.1605 - accuracy: 0.9567 - val_loss: 1.3727 - val_accuracy: 0.7980\n",
            "Epoch 11/20\n",
            "250/250 [==============================] - 2s 8ms/step - loss: 0.1519 - accuracy: 0.9582 - val_loss: 1.4394 - val_accuracy: 0.7940\n",
            "Epoch 12/20\n",
            "250/250 [==============================] - 2s 9ms/step - loss: 0.1489 - accuracy: 0.9574 - val_loss: 1.5518 - val_accuracy: 0.7950\n",
            "Epoch 13/20\n",
            "250/250 [==============================] - 2s 8ms/step - loss: 0.1439 - accuracy: 0.9578 - val_loss: 1.6538 - val_accuracy: 0.7900\n",
            "Epoch 14/20\n",
            "250/250 [==============================] - 2s 9ms/step - loss: 0.1401 - accuracy: 0.9575 - val_loss: 1.7946 - val_accuracy: 0.7910\n",
            "Epoch 15/20\n",
            "250/250 [==============================] - 2s 9ms/step - loss: 0.1360 - accuracy: 0.9583 - val_loss: 1.7928 - val_accuracy: 0.7900\n",
            "Epoch 16/20\n",
            "250/250 [==============================] - 2s 9ms/step - loss: 0.1317 - accuracy: 0.9582 - val_loss: 2.0541 - val_accuracy: 0.7860\n",
            "Epoch 17/20\n",
            "250/250 [==============================] - 2s 9ms/step - loss: 0.1318 - accuracy: 0.9579 - val_loss: 2.0175 - val_accuracy: 0.7900\n",
            "Epoch 18/20\n",
            "250/250 [==============================] - 2s 9ms/step - loss: 0.1309 - accuracy: 0.9577 - val_loss: 2.0685 - val_accuracy: 0.7880\n",
            "Epoch 19/20\n",
            "250/250 [==============================] - 2s 9ms/step - loss: 0.1276 - accuracy: 0.9569 - val_loss: 2.1429 - val_accuracy: 0.7860\n",
            "Epoch 20/20\n",
            "250/250 [==============================] - 2s 9ms/step - loss: 0.1251 - accuracy: 0.9572 - val_loss: 2.1817 - val_accuracy: 0.7920\n"
          ]
        }
      ]
    },
    {
      "cell_type": "markdown",
      "metadata": {
        "id": "gldwCoKB3oiI"
      },
      "source": [
        "## Wrapping up\n",
        "\n",
        "\n",
        "Here's what you should take away from this example:\n",
        "\n",
        "* If you are trying to classify data points between N classes, your network should end with a `Dense` layer of size N.\n",
        "* In a single-label, multi-class classification problem, your network should end with a `softmax` activation, so that it will output a \n",
        "probability distribution over the N output classes.\n",
        "* _Categorical crossentropy_ is almost always the loss function you should use for such problems. It minimizes the distance between the \n",
        "probability distributions output by the network, and the true distribution of the targets.\n",
        "* There are two ways to handle labels in multi-class classification:\n",
        "    ** Encoding the labels via \"categorical encoding\" (also known as \"one-hot encoding\") and using `categorical_crossentropy` as your loss \n",
        "function.\n",
        "    ** Encoding the labels as integers and using the `sparse_categorical_crossentropy` loss function.\n",
        "* If you need to classify data into a large number of categories, then you should avoid creating information bottlenecks in your network by having \n",
        "intermediate layers that are too small."
      ]
    },
    {
      "cell_type": "markdown",
      "metadata": {
        "id": "aKekl-HuGXiU"
      },
      "source": [
        "## Bonus Point\n",
        "Can you think of other methods to further improve the model performance? Code it up and evaluate them."
      ]
    },
    {
      "cell_type": "code",
      "metadata": {
        "id": "38I30otcrO-r",
        "colab": {
          "base_uri": "https://localhost:8080/"
        },
        "outputId": "50f8b0ba-c1e4-4f3d-e05a-34e8a0bbf973"
      },
      "source": [
        "# TODO\n",
        "\n",
        "\n",
        "model = models.Sequential()\n",
        "model.add(layers.Dense(units=256, activation=\"relu\", input_shape=(10000,)))\n",
        "model.add(layers.Dense(units=46, activation=\"softmax\"))\n",
        "\n",
        "model.compile(\n",
        "    optimizer=\"rmsprop\", \n",
        "    loss = \"categorical_crossentropy\",\n",
        "    metrics=[\"accuracy\"]\n",
        ")\n",
        "\n",
        "history = model.fit(\n",
        "    partial_x_train,\n",
        "    partial_y_train,\n",
        "    epochs=10,\n",
        "\n",
        "    validation_data=(x_val, y_val)\n",
        ")"
      ],
      "execution_count": null,
      "outputs": [
        {
          "output_type": "stream",
          "name": "stdout",
          "text": [
            "Epoch 1/10\n",
            "250/250 [==============================] - 7s 27ms/step - loss: 1.1884 - accuracy: 0.7437 - val_loss: 0.8759 - val_accuracy: 0.8180\n",
            "Epoch 2/10\n",
            "250/250 [==============================] - 7s 26ms/step - loss: 0.4825 - accuracy: 0.8950 - val_loss: 0.8307 - val_accuracy: 0.8340\n",
            "Epoch 3/10\n",
            "250/250 [==============================] - 7s 26ms/step - loss: 0.3032 - accuracy: 0.9342 - val_loss: 0.9325 - val_accuracy: 0.8280\n",
            "Epoch 4/10\n",
            "250/250 [==============================] - 7s 27ms/step - loss: 0.2385 - accuracy: 0.9486 - val_loss: 1.0920 - val_accuracy: 0.8130\n",
            "Epoch 5/10\n",
            "250/250 [==============================] - 8s 34ms/step - loss: 0.2103 - accuracy: 0.9499 - val_loss: 1.2195 - val_accuracy: 0.8220\n",
            "Epoch 6/10\n",
            "250/250 [==============================] - 7s 27ms/step - loss: 0.1938 - accuracy: 0.9533 - val_loss: 1.5285 - val_accuracy: 0.7940\n",
            "Epoch 7/10\n",
            "250/250 [==============================] - 7s 27ms/step - loss: 0.1757 - accuracy: 0.9560 - val_loss: 1.6187 - val_accuracy: 0.7990\n",
            "Epoch 8/10\n",
            "250/250 [==============================] - 7s 26ms/step - loss: 0.1756 - accuracy: 0.9544 - val_loss: 1.8311 - val_accuracy: 0.7910\n",
            "Epoch 9/10\n",
            "250/250 [==============================] - 7s 26ms/step - loss: 0.1669 - accuracy: 0.9553 - val_loss: 1.9503 - val_accuracy: 0.8040\n",
            "Epoch 10/10\n",
            "250/250 [==============================] - 7s 26ms/step - loss: 0.1624 - accuracy: 0.9564 - val_loss: 2.1782 - val_accuracy: 0.8030\n"
          ]
        }
      ]
    },
    {
      "cell_type": "markdown",
      "metadata": {
        "id": "l7CGM-0QrOrp"
      },
      "source": [
        "# End of HW1"
      ]
    }
  ]
}